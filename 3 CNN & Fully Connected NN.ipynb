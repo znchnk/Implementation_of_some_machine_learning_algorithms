{
 "cells": [
  {
   "cell_type": "markdown",
   "metadata": {},
   "source": [
    "# <center>Классификация рукописных цифр"
   ]
  },
  {
   "cell_type": "code",
   "execution_count": 1,
   "metadata": {},
   "outputs": [
    {
     "name": "stderr",
     "output_type": "stream",
     "text": [
      "Using TensorFlow backend.\n"
     ]
    }
   ],
   "source": [
    "import numpy as np\n",
    "\n",
    "import keras\n",
    "from keras.datasets import mnist"
   ]
  },
  {
   "cell_type": "markdown",
   "metadata": {},
   "source": [
    "Загрузим обучающую и тестовую выборки."
   ]
  },
  {
   "cell_type": "code",
   "execution_count": 42,
   "metadata": {},
   "outputs": [],
   "source": [
    "(x_train, y_train), (x_test, y_test) = mnist.load_data()"
   ]
  },
  {
   "cell_type": "markdown",
   "metadata": {},
   "source": [
    "Для распознавания рукописных цифр будем использовать полносвязную нейронную сеть, где каждый нейрон входного слоя характеризует один пиксель исходного изображения. При этом сами изображения представляют собой матрицу чисел, поэтому для дальнейшей работы необходимо выполнить преобразования над данными.\n",
    "\n",
    "С помощью функции `reshape` преобразуем каждую матрицу в вектор длины 28`*`28 (размер исходных изображений)."
   ]
  },
  {
   "cell_type": "code",
   "execution_count": 41,
   "metadata": {},
   "outputs": [
    {
     "data": {
      "text/plain": [
       "(60000,)"
      ]
     },
     "execution_count": 41,
     "metadata": {},
     "output_type": "execute_result"
    }
   ],
   "source": [
    "#  черновик\n",
    "\n",
    "# y_train.shape\n",
    "# x_test.shape[0]\n",
    "# y_train\n",
    "# x_train.reshape(60000,28*28).shape"
   ]
  },
  {
   "cell_type": "code",
   "execution_count": 43,
   "metadata": {},
   "outputs": [],
   "source": [
    "x_train, x_test =  x_train.reshape(x_train.shape[0],28*28), x_test.reshape(x_test.shape[0],28*28)"
   ]
  },
  {
   "cell_type": "markdown",
   "metadata": {},
   "source": [
    "Поскольку мы будем использовать градиентные методы обучения, необходимо также нормализовать данные."
   ]
  },
  {
   "cell_type": "code",
   "execution_count": 44,
   "metadata": {},
   "outputs": [
    {
     "data": {
      "text/plain": [
       "255"
      ]
     },
     "execution_count": 44,
     "metadata": {},
     "output_type": "execute_result"
    }
   ],
   "source": [
    "np.max(x_train) #максимальная интенсивность цвета"
   ]
  },
  {
   "cell_type": "code",
   "execution_count": 45,
   "metadata": {},
   "outputs": [],
   "source": [
    "x_train = x_train / 255 \n",
    "x_test = x_test / 255"
   ]
  },
  {
   "cell_type": "markdown",
   "metadata": {},
   "source": [
    "В данный момент значение целевой переменной каждого изображения представляет собой цифру от 0 до 9. Для решения задачи многоклассовой классификации можно использовать функцию softmax. Её выход при этом - вектор вероятностей принадлежности к каждому из классов. Таким образом, возникает необходимость преобразовать `y_train` и `y_test`.\n",
    "\n",
    "Для этих целей в `keras` доступна функция `keras.utils.to_categorical`, принимающая на вход исходный вектор значений и количество классов. Применим данную функцию к  `y_train` и  `y_test`."
   ]
  },
  {
   "cell_type": "code",
   "execution_count": 46,
   "metadata": {},
   "outputs": [],
   "source": [
    "from keras.utils import to_categorical\n",
    "\n",
    "y_train = to_categorical(y_train)\n",
    "y_test = to_categorical(y_test)"
   ]
  },
  {
   "cell_type": "code",
   "execution_count": 7,
   "metadata": {},
   "outputs": [
    {
     "data": {
      "text/plain": [
       "(10,)"
      ]
     },
     "execution_count": 7,
     "metadata": {},
     "output_type": "execute_result"
    }
   ],
   "source": [
    "y_train[0].shape # 10 классов, всё ок"
   ]
  },
  {
   "cell_type": "markdown",
   "metadata": {},
   "source": [
    "##  Полносвязная нейронная сеть"
   ]
  },
  {
   "cell_type": "markdown",
   "metadata": {},
   "source": [
    "Теперь можно приступать к обучению сети. Будем использовать следующую архитектуру:\n",
    "- на вход подается 784 значения;\n",
    "- далее идет полносвязный слой с 256 нейронами и функцией активации `relu`;\n",
    "- для повышения обобщающей способности модели добавим `Dropout(0.2)`, где `0.2` - вероятность отключения каждого из нейронов слоя;\n",
    "- далее еще один полносвязный слой с 256 нейронами и функцией активации `relu`;\n",
    "- последний слой - выход сети - полносвязный слой с числом нейронов, равным числу классов и функцией активации `softmax`."
   ]
  },
  {
   "cell_type": "code",
   "execution_count": 8,
   "metadata": {},
   "outputs": [],
   "source": [
    "from keras.models import Sequential\n",
    "from keras.layers import Input, Dense, Dropout"
   ]
  },
  {
   "cell_type": "code",
   "execution_count": 9,
   "metadata": {},
   "outputs": [
    {
     "data": {
      "text/plain": [
       "784"
      ]
     },
     "execution_count": 9,
     "metadata": {},
     "output_type": "execute_result"
    }
   ],
   "source": [
    "28*28"
   ]
  },
  {
   "cell_type": "code",
   "execution_count": 10,
   "metadata": {},
   "outputs": [],
   "source": [
    "model = Sequential() \n",
    "\n",
    "model.add(Dense(256, input_shape=(28*28,), activation='relu'))\n",
    "model.add(Dropout(0.2))\n",
    "model.add(Dense(256, activation='relu'))\n",
    "model.add(Dense(10, activation='softmax'))"
   ]
  },
  {
   "cell_type": "markdown",
   "metadata": {},
   "source": [
    "Обучим полученную модель на обучающей выборке. Для обучения:\n",
    "- функция потерь: https://keras.io/losses/; \n",
    "- optimizer - RMSProp: https://keras.io/optimizers/; \n",
    "- размер мини-батча - 128;\n",
    "- число эпох - 10;\n",
    "- на каждом шаге выводите значение `accuracy` как на обучающей, так и на тестовой выборках."
   ]
  },
  {
   "cell_type": "code",
   "execution_count": 11,
   "metadata": {},
   "outputs": [],
   "source": [
    "model.compile(optimizer='RMSProp', loss='categorical_crossentropy', metrics=['accuracy'])"
   ]
  },
  {
   "cell_type": "code",
   "execution_count": 12,
   "metadata": {},
   "outputs": [
    {
     "name": "stdout",
     "output_type": "stream",
     "text": [
      "Train on 60000 samples, validate on 10000 samples\n",
      "Epoch 1/10\n",
      "60000/60000 [==============================] - 16s 266us/step - loss: 0.2810 - accuracy: 0.9154 - val_loss: 0.1229 - val_accuracy: 0.9641\n",
      "Epoch 2/10\n",
      "60000/60000 [==============================] - 11s 186us/step - loss: 0.1171 - accuracy: 0.9639 - val_loss: 0.0889 - val_accuracy: 0.9743\n",
      "Epoch 3/10\n",
      "60000/60000 [==============================] - 12s 202us/step - loss: 0.0864 - accuracy: 0.9730 - val_loss: 0.0903 - val_accuracy: 0.9714\n",
      "Epoch 4/10\n",
      "60000/60000 [==============================] - 12s 208us/step - loss: 0.0691 - accuracy: 0.9784 - val_loss: 0.0829 - val_accuracy: 0.9751\n",
      "Epoch 5/10\n",
      "60000/60000 [==============================] - 12s 206us/step - loss: 0.0589 - accuracy: 0.9814 - val_loss: 0.0602 - val_accuracy: 0.9822\n",
      "Epoch 6/10\n",
      "60000/60000 [==============================] - 12s 207us/step - loss: 0.0488 - accuracy: 0.9841 - val_loss: 0.0687 - val_accuracy: 0.9805\n",
      "Epoch 7/10\n",
      "60000/60000 [==============================] - 12s 206us/step - loss: 0.0455 - accuracy: 0.9861 - val_loss: 0.0658 - val_accuracy: 0.9817\n",
      "Epoch 8/10\n",
      "60000/60000 [==============================] - 12s 207us/step - loss: 0.0385 - accuracy: 0.9878 - val_loss: 0.0730 - val_accuracy: 0.9808\n",
      "Epoch 9/10\n",
      "60000/60000 [==============================] - 12s 208us/step - loss: 0.0360 - accuracy: 0.9892 - val_loss: 0.0775 - val_accuracy: 0.9814\n",
      "Epoch 10/10\n",
      "60000/60000 [==============================] - 13s 210us/step - loss: 0.0324 - accuracy: 0.9900 - val_loss: 0.0709 - val_accuracy: 0.9831\n"
     ]
    },
    {
     "data": {
      "text/plain": [
       "<keras.callbacks.callbacks.History at 0xb0f3feef98>"
      ]
     },
     "execution_count": 12,
     "metadata": {},
     "output_type": "execute_result"
    }
   ],
   "source": [
    "model.fit(x_train, y_train, validation_data=(x_test, y_test), epochs=10, batch_size=128)"
   ]
  },
  {
   "cell_type": "code",
   "execution_count": 13,
   "metadata": {},
   "outputs": [
    {
     "name": "stdout",
     "output_type": "stream",
     "text": [
      "10000/10000 [==============================] - 1s 75us/step\n"
     ]
    },
    {
     "data": {
      "text/plain": [
       "[0.07092731841329951, 0.9830999970436096]"
      ]
     },
     "execution_count": 13,
     "metadata": {},
     "output_type": "execute_result"
    }
   ],
   "source": [
    "score = model.evaluate(x_test, y_test, batch_size=128)\n",
    "score"
   ]
  },
  {
   "cell_type": "code",
   "execution_count": 14,
   "metadata": {},
   "outputs": [
    {
     "data": {
      "text/plain": [
       "[<keras.layers.core.Dense at 0xb0f16686a0>,\n",
       " <keras.layers.core.Dropout at 0xb0f16689b0>,\n",
       " <keras.layers.core.Dense at 0xb0f1668c50>,\n",
       " <keras.layers.core.Dense at 0xb0f1668cc0>]"
      ]
     },
     "execution_count": 14,
     "metadata": {},
     "output_type": "execute_result"
    }
   ],
   "source": [
    "model.layers"
   ]
  },
  {
   "cell_type": "markdown",
   "metadata": {},
   "source": [
    "Попробуем улучшить полученный результат, меняя архитектуру сети."
   ]
  },
  {
   "cell_type": "code",
   "execution_count": 51,
   "metadata": {},
   "outputs": [],
   "source": [
    "model2 = Sequential() \n",
    "model2.add(Dense(512, input_shape=(28*28,), activation='relu'))\n",
    "model2.add(Dropout(0.25))\n",
    "model2.add(Dense(256, activation='relu'))\n",
    "model2.add(Dropout(0.2))\n",
    "model2.add(Dense(128, activation='relu'))\n",
    "model2.add(Dense(64, activation='relu'))\n",
    "#model2.add(Dense(32, activation='relu'))\n",
    "model2.add(Dense(10, activation='softmax'))"
   ]
  },
  {
   "cell_type": "code",
   "execution_count": 52,
   "metadata": {},
   "outputs": [],
   "source": [
    "model2.compile(optimizer='RMSProp', loss='categorical_crossentropy', metrics=['accuracy'])"
   ]
  },
  {
   "cell_type": "code",
   "execution_count": 53,
   "metadata": {},
   "outputs": [
    {
     "name": "stdout",
     "output_type": "stream",
     "text": [
      "Train on 60000 samples, validate on 10000 samples\n",
      "Epoch 1/15\n",
      "60000/60000 [==============================] - 27s 453us/step - loss: 0.3042 - accuracy: 0.9053 - val_loss: 0.1212 - val_accuracy: 0.9634\n",
      "Epoch 2/15\n",
      "60000/60000 [==============================] - 24s 392us/step - loss: 0.1278 - accuracy: 0.9621 - val_loss: 0.0901 - val_accuracy: 0.9730\n",
      "Epoch 3/15\n",
      "60000/60000 [==============================] - 25s 410us/step - loss: 0.0951 - accuracy: 0.9712 - val_loss: 0.0743 - val_accuracy: 0.9790\n",
      "Epoch 4/15\n",
      "60000/60000 [==============================] - 25s 418us/step - loss: 0.0780 - accuracy: 0.9773 - val_loss: 0.0764 - val_accuracy: 0.9784\n",
      "Epoch 5/15\n",
      "60000/60000 [==============================] - 28s 461us/step - loss: 0.0674 - accuracy: 0.9801 - val_loss: 0.0743 - val_accuracy: 0.9793: 0\n",
      "Epoch 6/15\n",
      "60000/60000 [==============================] - 30s 500us/step - loss: 0.0602 - accuracy: 0.9822 - val_loss: 0.0805 - val_accuracy: 0.9781\n",
      "Epoch 7/15\n",
      "60000/60000 [==============================] - 31s 513us/step - loss: 0.0544 - accuracy: 0.9843 - val_loss: 0.0768 - val_accuracy: 0.9784\n",
      "Epoch 8/15\n",
      "60000/60000 [==============================] - 31s 510us/step - loss: 0.0497 - accuracy: 0.9852 - val_loss: 0.0713 - val_accuracy: 0.9805\n",
      "Epoch 9/15\n",
      "60000/60000 [==============================] - 30s 502us/step - loss: 0.0456 - accuracy: 0.9877 - val_loss: 0.0725 - val_accuracy: 0.9837\n",
      "Epoch 10/15\n",
      "60000/60000 [==============================] - 30s 505us/step - loss: 0.0419 - accuracy: 0.9883 - val_loss: 0.0747 - val_accuracy: 0.9806\n",
      "Epoch 11/15\n",
      "60000/60000 [==============================] - 30s 507us/step - loss: 0.0399 - accuracy: 0.9892 - val_loss: 0.0716 - val_accuracy: 0.9822\n",
      "Epoch 12/15\n",
      "60000/60000 [==============================] - 31s 513us/step - loss: 0.0395 - accuracy: 0.9899 - val_loss: 0.0705 - val_accuracy: 0.9836\n",
      "Epoch 13/15\n",
      "60000/60000 [==============================] - 30s 505us/step - loss: 0.0361 - accuracy: 0.9900 - val_loss: 0.0844 - val_accuracy: 0.9820\n",
      "Epoch 14/15\n",
      "60000/60000 [==============================] - 30s 506us/step - loss: 0.0331 - accuracy: 0.9908 - val_loss: 0.0900 - val_accuracy: 0.9823\n",
      "Epoch 15/15\n",
      "60000/60000 [==============================] - 30s 505us/step - loss: 0.0347 - accuracy: 0.9909 - val_loss: 0.0690 - val_accuracy: 0.9854\n"
     ]
    },
    {
     "data": {
      "text/plain": [
       "<keras.callbacks.callbacks.History at 0xb085c95c50>"
      ]
     },
     "execution_count": 53,
     "metadata": {},
     "output_type": "execute_result"
    }
   ],
   "source": [
    "model2.fit(x_train, y_train, validation_data=(x_test, y_test), epochs=15, batch_size=128)"
   ]
  },
  {
   "cell_type": "code",
   "execution_count": 54,
   "metadata": {},
   "outputs": [
    {
     "name": "stdout",
     "output_type": "stream",
     "text": [
      "10000/10000 [==============================] - 2s 151us/step\n"
     ]
    },
    {
     "data": {
      "text/plain": [
       "[0.06898705225066151, 0.9854000210762024]"
      ]
     },
     "execution_count": 54,
     "metadata": {},
     "output_type": "execute_result"
    }
   ],
   "source": [
    "score2 = model2.evaluate(x_test, y_test, batch_size=128)\n",
    "score2"
   ]
  },
  {
   "cell_type": "markdown",
   "metadata": {},
   "source": [
    "##  Свёрточная нейронная сеть"
   ]
  },
  {
   "cell_type": "markdown",
   "metadata": {},
   "source": [
    "**Вариант 3**"
   ]
  },
  {
   "cell_type": "code",
   "execution_count": 18,
   "metadata": {},
   "outputs": [],
   "source": [
    "from keras.layers import Conv2D, Flatten, MaxPool2D"
   ]
  },
  {
   "cell_type": "code",
   "execution_count": 26,
   "metadata": {},
   "outputs": [],
   "source": [
    "model4 = Sequential() \n",
    "\n",
    "model4.add(Conv2D(10, kernel_size=5, activation='relu', input_shape=(28,28,1)))\n",
    "#model4.add(Conv2D(10, kernel_size=5, activation='relu'))\n",
    "model4.add(MaxPool2D(pool_size=(2,2)))\n",
    "model4.add(Conv2D(20, kernel_size=5, activation='relu'))\n",
    "model4.add(MaxPool2D(pool_size=(2,2)))\n",
    "model4.add(Dropout(0.25))\n",
    "model4.add(Flatten())\n",
    "model4.add(Dense(100, activation='relu'))\n",
    "model4.add(Dense(10, activation='softmax'))"
   ]
  },
  {
   "cell_type": "code",
   "execution_count": 27,
   "metadata": {},
   "outputs": [],
   "source": [
    "model4.compile(optimizer='adam', loss='categorical_crossentropy', metrics=['accuracy'])"
   ]
  },
  {
   "cell_type": "code",
   "execution_count": 31,
   "metadata": {},
   "outputs": [],
   "source": [
    "(x_train, y_train), (x_test, y_test) = mnist.load_data()\n",
    "x_train, x_test = x_train.reshape(x_train.shape[0], 28, 28, 1), x_test.reshape(x_test.shape[0], 28, 28, 1)\n",
    "y_train = to_categorical(y_train)\n",
    "y_test = to_categorical(y_test)"
   ]
  },
  {
   "cell_type": "code",
   "execution_count": 32,
   "metadata": {},
   "outputs": [
    {
     "name": "stdout",
     "output_type": "stream",
     "text": [
      "Train on 60000 samples, validate on 10000 samples\n",
      "Epoch 1/5\n",
      "60000/60000 [==============================] - 75s 1ms/step - loss: 0.5429 - accuracy: 0.8841 - val_loss: 0.0958 - val_accuracy: 0.9714\n",
      "Epoch 2/5\n",
      "60000/60000 [==============================] - 76s 1ms/step - loss: 0.1285 - accuracy: 0.9611 - val_loss: 0.0660 - val_accuracy: 0.9780\n",
      "Epoch 3/5\n",
      "60000/60000 [==============================] - 77s 1ms/step - loss: 0.0992 - accuracy: 0.9702 - val_loss: 0.0487 - val_accuracy: 0.9851\n",
      "Epoch 4/5\n",
      "60000/60000 [==============================] - 88s 1ms/step - loss: 0.0845 - accuracy: 0.9747 - val_loss: 0.0450 - val_accuracy: 0.9850\n",
      "Epoch 5/5\n",
      "60000/60000 [==============================] - 91s 2ms/step - loss: 0.0748 - accuracy: 0.9775 - val_loss: 0.0425 - val_accuracy: 0.9853\n"
     ]
    },
    {
     "data": {
      "text/plain": [
       "<keras.callbacks.callbacks.History at 0xb0801fb3c8>"
      ]
     },
     "execution_count": 32,
     "metadata": {},
     "output_type": "execute_result"
    }
   ],
   "source": [
    "model4.fit(x_train, y_train, validation_data=(x_test, y_test), epochs=5)"
   ]
  },
  {
   "cell_type": "code",
   "execution_count": 33,
   "metadata": {},
   "outputs": [
    {
     "name": "stdout",
     "output_type": "stream",
     "text": [
      "10000/10000 [==============================] - 5s 470us/step\n"
     ]
    },
    {
     "data": {
      "text/plain": [
       "[0.04247035065311938, 0.9853000044822693]"
      ]
     },
     "execution_count": 33,
     "metadata": {},
     "output_type": "execute_result"
    }
   ],
   "source": [
    "score3 = model4.evaluate(x_test, y_test, batch_size=128)\n",
    "score3"
   ]
  },
  {
   "cell_type": "markdown",
   "metadata": {},
   "source": [
    "### Вывод\n",
    "1. Были рассмотрены полносвязные и свёрточные неейронные сети.\n",
    "2. В полносвязных нейронных сетях увеличение числа слоёв и нейронов позволило добиться высокой точности классификации модели (accuracy = 0.9854).\n",
    "3. Свёрточная нейронная сеть позволила добиться точности классификации (accuracy = 0.9853)"
   ]
  },
  {
   "cell_type": "code",
   "execution_count": null,
   "metadata": {},
   "outputs": [],
   "source": []
  }
 ],
 "metadata": {
  "kernelspec": {
   "display_name": "Python 3",
   "language": "python",
   "name": "python3"
  },
  "language_info": {
   "codemirror_mode": {
    "name": "ipython",
    "version": 3
   },
   "file_extension": ".py",
   "mimetype": "text/x-python",
   "name": "python",
   "nbconvert_exporter": "python",
   "pygments_lexer": "ipython3",
   "version": "3.7.3"
  }
 },
 "nbformat": 4,
 "nbformat_minor": 2
}
