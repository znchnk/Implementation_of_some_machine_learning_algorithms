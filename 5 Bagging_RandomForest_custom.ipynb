{
 "cells": [
  {
   "cell_type": "markdown",
   "metadata": {},
   "source": [
    "# <center>Композиции алгоритмов"
   ]
  },
  {
   "cell_type": "markdown",
   "metadata": {},
   "source": [
    "Будем решать задачу кредитного скоринга.\n",
    "\n",
    "#### Данные по кредитному скорингу представлены следующим образом:\n",
    "\n",
    "##### Прогнозируемая  переменная\n",
    "* SeriousDlqin2yrs\t– Человек имел долгие просрочки выплат платежей за 2 года; бинарный признак\n",
    "\n",
    "##### Независимые признаки\n",
    "* age\t                         – Возраст заёмщика кредитных средств (число полных лет); тип – integer\n",
    "* NumberOfTime30-59DaysPastDueNotWorse\t– Количество раз, когда человек имел просрочку выплаты других кредитов более 30-59 дней (но не больше) в течение последних двух лет; тип -\tinteger\n",
    "* DebtRatio –\tЕжемесячный отчисления на задолжености(кредиты,алименты и т.д.)  / совокупный месячный доход \tpercentage; тип – float\n",
    "* MonthlyIncome\t– Месячный доход в долларах; тип –\tfloat\n",
    "* NumberOfTimes90DaysLate – Количество раз, когда человек имел просрочку выплаты других кредитов более 90 дней; тип –\tinteger\n",
    "* NumberOfTime60-89DaysPastDueNotWorse –\tКоличество раз, когда человек имел просрочку выплаты других кредитов более 60-89 дней (но не больше) в течение последних двух лет; тип – integer\n",
    "* NumberOfDependents – Число человек в семье кредитозаёмщика; тип –\tinteger"
   ]
  },
  {
   "cell_type": "code",
   "execution_count": 1,
   "metadata": {},
   "outputs": [],
   "source": [
    "import numpy as np\n",
    "import pandas as pd\n",
    "import random\n",
    "\n",
    "from sklearn.tree import DecisionTreeClassifier\n",
    "from sklearn.model_selection import GridSearchCV, StratifiedKFold, cross_val_score\n",
    "from sklearn.metrics import roc_auc_score\n",
    "from sklearn.model_selection import train_test_split \n",
    "from sklearn.model_selection import cross_validate\n",
    "\n",
    "import matplotlib.pyplot as plt\n",
    "%matplotlib inline"
   ]
  },
  {
   "cell_type": "code",
   "execution_count": 2,
   "metadata": {},
   "outputs": [],
   "source": [
    "def impute_nan_with_median(table):\n",
    "    for col in table.columns:\n",
    "        table[col]= table[col].fillna(table[col].median())\n",
    "    return table   "
   ]
  },
  {
   "cell_type": "code",
   "execution_count": 3,
   "metadata": {},
   "outputs": [
    {
     "data": {
      "text/html": [
       "<div>\n",
       "<style scoped>\n",
       "    .dataframe tbody tr th:only-of-type {\n",
       "        vertical-align: middle;\n",
       "    }\n",
       "\n",
       "    .dataframe tbody tr th {\n",
       "        vertical-align: top;\n",
       "    }\n",
       "\n",
       "    .dataframe thead th {\n",
       "        text-align: right;\n",
       "    }\n",
       "</style>\n",
       "<table border=\"1\" class=\"dataframe\">\n",
       "  <thead>\n",
       "    <tr style=\"text-align: right;\">\n",
       "      <th></th>\n",
       "      <th>SeriousDlqin2yrs</th>\n",
       "      <th>age</th>\n",
       "      <th>NumberOfTime30-59DaysPastDueNotWorse</th>\n",
       "      <th>DebtRatio</th>\n",
       "      <th>NumberOfTimes90DaysLate</th>\n",
       "      <th>NumberOfTime60-89DaysPastDueNotWorse</th>\n",
       "      <th>MonthlyIncome</th>\n",
       "      <th>NumberOfDependents</th>\n",
       "    </tr>\n",
       "  </thead>\n",
       "  <tbody>\n",
       "    <tr>\n",
       "      <td>0</td>\n",
       "      <td>0</td>\n",
       "      <td>64</td>\n",
       "      <td>0</td>\n",
       "      <td>0.249908</td>\n",
       "      <td>0</td>\n",
       "      <td>0</td>\n",
       "      <td>8158.0</td>\n",
       "      <td>0.0</td>\n",
       "    </tr>\n",
       "    <tr>\n",
       "      <td>1</td>\n",
       "      <td>0</td>\n",
       "      <td>58</td>\n",
       "      <td>0</td>\n",
       "      <td>3870.000000</td>\n",
       "      <td>0</td>\n",
       "      <td>0</td>\n",
       "      <td>NaN</td>\n",
       "      <td>0.0</td>\n",
       "    </tr>\n",
       "    <tr>\n",
       "      <td>2</td>\n",
       "      <td>0</td>\n",
       "      <td>41</td>\n",
       "      <td>0</td>\n",
       "      <td>0.456127</td>\n",
       "      <td>0</td>\n",
       "      <td>0</td>\n",
       "      <td>6666.0</td>\n",
       "      <td>0.0</td>\n",
       "    </tr>\n",
       "    <tr>\n",
       "      <td>3</td>\n",
       "      <td>0</td>\n",
       "      <td>43</td>\n",
       "      <td>0</td>\n",
       "      <td>0.000190</td>\n",
       "      <td>0</td>\n",
       "      <td>0</td>\n",
       "      <td>10500.0</td>\n",
       "      <td>2.0</td>\n",
       "    </tr>\n",
       "    <tr>\n",
       "      <td>4</td>\n",
       "      <td>1</td>\n",
       "      <td>49</td>\n",
       "      <td>0</td>\n",
       "      <td>0.271820</td>\n",
       "      <td>0</td>\n",
       "      <td>0</td>\n",
       "      <td>400.0</td>\n",
       "      <td>0.0</td>\n",
       "    </tr>\n",
       "  </tbody>\n",
       "</table>\n",
       "</div>"
      ],
      "text/plain": [
       "   SeriousDlqin2yrs  age  NumberOfTime30-59DaysPastDueNotWorse    DebtRatio  \\\n",
       "0                 0   64                                     0     0.249908   \n",
       "1                 0   58                                     0  3870.000000   \n",
       "2                 0   41                                     0     0.456127   \n",
       "3                 0   43                                     0     0.000190   \n",
       "4                 1   49                                     0     0.271820   \n",
       "\n",
       "   NumberOfTimes90DaysLate  NumberOfTime60-89DaysPastDueNotWorse  \\\n",
       "0                        0                                     0   \n",
       "1                        0                                     0   \n",
       "2                        0                                     0   \n",
       "3                        0                                     0   \n",
       "4                        0                                     0   \n",
       "\n",
       "   MonthlyIncome  NumberOfDependents  \n",
       "0         8158.0                 0.0  \n",
       "1            NaN                 0.0  \n",
       "2         6666.0                 0.0  \n",
       "3        10500.0                 2.0  \n",
       "4          400.0                 0.0  "
      ]
     },
     "execution_count": 3,
     "metadata": {},
     "output_type": "execute_result"
    }
   ],
   "source": [
    "data = pd.read_csv('credit_scoring_sample.csv', sep=\";\")\n",
    "data.head()"
   ]
  },
  {
   "cell_type": "code",
   "execution_count": 4,
   "metadata": {},
   "outputs": [
    {
     "data": {
      "text/plain": [
       "['age',\n",
       " 'NumberOfTime30-59DaysPastDueNotWorse',\n",
       " 'DebtRatio',\n",
       " 'NumberOfTimes90DaysLate',\n",
       " 'NumberOfTime60-89DaysPastDueNotWorse',\n",
       " 'MonthlyIncome',\n",
       " 'NumberOfDependents']"
      ]
     },
     "execution_count": 4,
     "metadata": {},
     "output_type": "execute_result"
    }
   ],
   "source": [
    "independent_columns_names = data.columns.values\n",
    "independent_columns_names = [x for x in data if x != 'SeriousDlqin2yrs']\n",
    "independent_columns_names"
   ]
  },
  {
   "cell_type": "code",
   "execution_count": 5,
   "metadata": {},
   "outputs": [],
   "source": [
    "table = impute_nan_with_median(data)"
   ]
  },
  {
   "cell_type": "code",
   "execution_count": 6,
   "metadata": {},
   "outputs": [],
   "source": [
    "X = table[independent_columns_names]\n",
    "y = table['SeriousDlqin2yrs']"
   ]
  },
  {
   "cell_type": "code",
   "execution_count": 7,
   "metadata": {},
   "outputs": [
    {
     "data": {
      "text/plain": [
       "(45063, 7)"
      ]
     },
     "execution_count": 7,
     "metadata": {},
     "output_type": "execute_result"
    }
   ],
   "source": [
    "X.shape"
   ]
  },
  {
   "cell_type": "markdown",
   "metadata": {},
   "source": [
    "Задайте решающее дерево, пользуясь встроенной функцией `DecisionTreeClassifier` с параметрами `random_state=17` и `class_weight='balanced'`."
   ]
  },
  {
   "cell_type": "code",
   "execution_count": 8,
   "metadata": {},
   "outputs": [],
   "source": [
    "dtc = DecisionTreeClassifier(random_state=17, class_weight='balanced')"
   ]
  },
  {
   "cell_type": "markdown",
   "metadata": {},
   "source": [
    "Используйте функцию `GridSearchCV` для выбора оптимального набора гиперпараметров для указанной задачи. В качестве метрики качества возьмите ROC AUC."
   ]
  },
  {
   "cell_type": "code",
   "execution_count": 9,
   "metadata": {},
   "outputs": [],
   "source": [
    "max_depth_values = [3, 5, 6, 7, 9]\n",
    "max_features_values = [4, 5, 6, 7]\n",
    "tree_params = {'max_depth': max_depth_values,\n",
    "               'max_features': max_features_values}"
   ]
  },
  {
   "cell_type": "code",
   "execution_count": 10,
   "metadata": {},
   "outputs": [
    {
     "data": {
      "text/plain": [
       "GridSearchCV(cv=8, error_score='raise-deprecating',\n",
       "       estimator=DecisionTreeClassifier(class_weight='balanced', criterion='gini',\n",
       "            max_depth=None, max_features=None, max_leaf_nodes=None,\n",
       "            min_impurity_decrease=0.0, min_impurity_split=None,\n",
       "            min_samples_leaf=1, min_samples_split=2,\n",
       "            min_weight_fraction_leaf=0.0, presort=False, random_state=17,\n",
       "            splitter='best'),\n",
       "       fit_params=None, iid='warn', n_jobs=None,\n",
       "       param_grid={'max_depth': [3, 5, 6, 7, 9], 'max_features': [4, 5, 6, 7]},\n",
       "       pre_dispatch='2*n_jobs', refit=True, return_train_score=True,\n",
       "       scoring='roc_auc', verbose=0)"
      ]
     },
     "execution_count": 10,
     "metadata": {},
     "output_type": "execute_result"
    }
   ],
   "source": [
    "clf2 = GridSearchCV(dtc, tree_params, scoring='roc_auc', cv=8, return_train_score=True)\n",
    "clf2.fit(X, y)"
   ]
  },
  {
   "cell_type": "code",
   "execution_count": 11,
   "metadata": {},
   "outputs": [
    {
     "data": {
      "text/plain": [
       "{'max_depth': 6, 'max_features': 7}"
      ]
     },
     "execution_count": 11,
     "metadata": {},
     "output_type": "execute_result"
    }
   ],
   "source": [
    "clf2.best_params_"
   ]
  },
  {
   "cell_type": "code",
   "execution_count": 12,
   "metadata": {},
   "outputs": [
    {
     "data": {
      "text/plain": [
       "0.819625753230563"
      ]
     },
     "execution_count": 12,
     "metadata": {},
     "output_type": "execute_result"
    }
   ],
   "source": [
    "clf2.best_score_"
   ]
  },
  {
   "cell_type": "code",
   "execution_count": 13,
   "metadata": {},
   "outputs": [
    {
     "data": {
      "text/plain": [
       "0.0013690595109756838"
      ]
     },
     "execution_count": 13,
     "metadata": {},
     "output_type": "execute_result"
    }
   ],
   "source": [
    "clf2.cv_results_['std_train_score'].mean()"
   ]
  },
  {
   "cell_type": "markdown",
   "metadata": {},
   "source": [
    "Зафиксируйте кросс-валидацию с помощью функции `StratifiedKFold` на 5 разбиений с перемешиванием, `random_state=17`."
   ]
  },
  {
   "cell_type": "code",
   "execution_count": 14,
   "metadata": {},
   "outputs": [
    {
     "data": {
      "text/plain": [
       "{'max_depth': 7, 'max_features': 4}"
      ]
     },
     "execution_count": 14,
     "metadata": {},
     "output_type": "execute_result"
    }
   ],
   "source": [
    "clf = GridSearchCV(dtc, tree_params, scoring='roc_auc', cv=StratifiedKFold(n_splits=5, random_state=17), return_train_score=True)\n",
    "clf.fit(X, y)\n",
    "clf.best_params_"
   ]
  },
  {
   "cell_type": "markdown",
   "metadata": {},
   "source": [
    "Какое максимальное значение ROC AUC получилось? Является ли оценка на кросс-валидации надежной?"
   ]
  },
  {
   "cell_type": "code",
   "execution_count": 15,
   "metadata": {},
   "outputs": [
    {
     "name": "stdout",
     "output_type": "stream",
     "text": [
      "Максимальное значение ROC AUC =  0.8201081676099699\n"
     ]
    }
   ],
   "source": [
    "print('Максимальное значение ROC AUC = ', clf.best_score_)"
   ]
  },
  {
   "cell_type": "code",
   "execution_count": 16,
   "metadata": {},
   "outputs": [
    {
     "data": {
      "text/plain": [
       "{'max_depth': 7, 'max_features': 4}"
      ]
     },
     "execution_count": 16,
     "metadata": {},
     "output_type": "execute_result"
    }
   ],
   "source": [
    "clf.best_params_ "
   ]
  },
  {
   "cell_type": "code",
   "execution_count": 17,
   "metadata": {},
   "outputs": [
    {
     "data": {
      "text/plain": [
       "0.8201081676099699"
      ]
     },
     "execution_count": 17,
     "metadata": {},
     "output_type": "execute_result"
    }
   ],
   "source": [
    "clf.cv_results_['mean_test_score'].max()"
   ]
  },
  {
   "cell_type": "code",
   "execution_count": 18,
   "metadata": {},
   "outputs": [
    {
     "data": {
      "text/plain": [
       "0.0019071010178781257"
      ]
     },
     "execution_count": 18,
     "metadata": {},
     "output_type": "execute_result"
    }
   ],
   "source": [
    "clf.cv_results_['std_train_score'].mean()"
   ]
  },
  {
   "cell_type": "markdown",
   "metadata": {},
   "source": [
    "Оценку на кросс-валидации можно считать надежной, так как std выбранной метрики качества = 0.002"
   ]
  },
  {
   "cell_type": "markdown",
   "metadata": {},
   "source": [
    "# Реализация бэггинга"
   ]
  },
  {
   "cell_type": "markdown",
   "metadata": {},
   "source": [
    "Реализуйте свой собственный `BaggingClassifierCustom` с базовым классификатором `DecisionTreeClassifier`. По умолчанию будет 10 деревьев, предсказанные вероятности которых необходимо будет усреднить. \n",
    "\n",
    "Краткая спецификация: \n",
    " - Используйте основу ниже.\n",
    " - В методе `fit` в цикле (`i` от 0 до `n_estimators-1`) фиксируйте seed, равный (`random_state + i`). Это нужно для того, чтобы на каждой итерации seed был новый, при этом все значения можно было бы воспроизвести.\n",
    " - Зафиксировав seed, сделайте bootstrap-выборку (т.е. **с замещением**) из множества id объектов.\n",
    " - Найдите индексы объектов, которые не попали в обучающую выборку (опционально).\n",
    " - Обучите дерево с теми же `max_depth`, `max_features` и `random_state`, что и у `BaggingClassifierCustom` на выборке с нужным подмножеством объектов.\n",
    " - Метод `fit` возвращает текущий экземпляр класса `BaggingClassifierCustom`, то есть `self`.\n",
    " - В методе `predict_proba` опять нужен цикл по всем деревьям. Для тестовой выборки нужно сделать прогноз вероятностей (`predict_proba` уже для дерева). Метод должен вернуть усреднение прогнозов по всем деревьям.\n",
    " - В методе `oob_score` посчитайте качество полученного алгоритма на тех объектах, которые не попали в бутстрэп выборку с помощью метрики ROC AUC. (опционально)\n",
    "\n",
    "Проведите кросс-валидацию. Какое получилось среднее значение ROC AUC на кросс-валидации?"
   ]
  },
  {
   "cell_type": "code",
   "execution_count": 8,
   "metadata": {},
   "outputs": [],
   "source": [
    "from sklearn.base import BaseEstimator\n",
    "\n",
    "class BaggingClassifierCustom(BaseEstimator):\n",
    "    def __init__(self, n_estimators=10, max_depth=3, random_state=17, max_features=4):\n",
    "        self.n_estimators = n_estimators\n",
    "        self.max_depth = max_depth\n",
    "        self.random_state = random_state\n",
    "        self.max_features = max_features\n",
    "        # в данном списке будем хранить отдельные деревья\n",
    "        self.trees = []\n",
    "        # в данном списке будем хранить объекты, которые не попали в обучающую выборку\n",
    "        self.oob = {}\n",
    "        \n",
    "    def fit(self, X, y):\n",
    "                \n",
    "        X = pd.DataFrame(np.asarray(X))\n",
    "        y = pd.DataFrame({'y' : np.asarray(y)})['y']\n",
    "        for i in range(self.n_estimators):\n",
    "            random.seed(self.random_state + i)\n",
    "            indexes = [random.randint(0, X.shape[0]-1) for i in range(0, X.shape[0])]\n",
    "            X_new = X.loc[indexes] # бутстрэп выборка \n",
    "            y_new = y.loc[indexes] \n",
    "            # Найдите индексы объектов, которые не попали в обучающую выборку (опционально)\n",
    "            list_oob = list(set(list(range(X.shape[0])))^set(indexes))\n",
    "            self.oob[i] = list_oob\n",
    "            # Обучите дерево с теми же max_depth, max_features и random_state, что и у BaggingClassifierCustom на выборке с нужным подмножеством объектов.\n",
    "            dtc = DecisionTreeClassifier(random_state=self.random_state, class_weight='balanced', max_depth=self.max_depth, max_features=self.max_features)\n",
    "            dtc.fit(X_new, y_new)\n",
    "            self.trees += [dtc]\n",
    "        \n",
    "        # Метод fit возвращает текущий экземпляр класса BaggingClassifierCustom, то есть self\n",
    "        return self\n",
    "\n",
    "    \n",
    "    def predict_proba(self, X):\n",
    "        \n",
    "        all_pp = []\n",
    "        # цикл по всем деревьям. \n",
    "        for tree in self.trees:\n",
    "            all_pp.append(tree.predict_proba(X))  \n",
    "        \n",
    "        # Метод должен вернуть усреднение прогнозов по всем деревьям.\n",
    "        pp = np.mean(all_pp, axis=0)\n",
    "        return pp\n",
    "    \n",
    "    def predict(self, X):\n",
    "        \n",
    "        all_pp = []\n",
    "        # цикл по всем деревьям. \n",
    "        for tree in self.trees:\n",
    "            all_pp.append(tree.predict_proba(X))  \n",
    "        \n",
    "        # Метод должен вернуть усреднение прогнозов по всем деревьям.\n",
    "        pp = np.mean(all_pp, axis=0)\n",
    "        y_pred = [0 if i[0]==max(i) else 1 for i in pp ]\n",
    "        return y_pred\n",
    "    \n",
    "        \n",
    "    \n",
    "    def oob_score(self, X, y):\n",
    "        \n",
    "        scores = []\n",
    "        for i in range(len(self.oob)):\n",
    "            tree = self.trees[i]\n",
    "            y_pred = [0 if i[0]==max(i) else 1 for i in tree.predict_proba(X.loc[self.oob[i]]) ]\n",
    "            score = roc_auc_score(y.loc[self.oob[i]], y_pred)  \n",
    "            scores += [score]\n",
    "        \n",
    "        score = np.mean(scores)                 \n",
    "\n",
    "        #  посчитайте качество полученного алгоритма на тех объектах, которые не попали в бутстрэп выборку с помощью метрики ROC AUC.\n",
    "        return score\n",
    "    "
   ]
  },
  {
   "cell_type": "code",
   "execution_count": 35,
   "metadata": {},
   "outputs": [],
   "source": [
    "baggcc = BaggingClassifierCustom(n_estimators=3, max_depth=7, random_state=17, max_features=4)"
   ]
  },
  {
   "cell_type": "code",
   "execution_count": 36,
   "metadata": {},
   "outputs": [
    {
     "data": {
      "text/plain": [
       "BaggingClassifierCustom(max_depth=7, max_features=4, n_estimators=3,\n",
       "            random_state=17)"
      ]
     },
     "execution_count": 36,
     "metadata": {},
     "output_type": "execute_result"
    }
   ],
   "source": [
    "baggcc.fit(X,y)"
   ]
  },
  {
   "cell_type": "code",
   "execution_count": 37,
   "metadata": {},
   "outputs": [
    {
     "data": {
      "text/plain": [
       "3"
      ]
     },
     "execution_count": 37,
     "metadata": {},
     "output_type": "execute_result"
    }
   ],
   "source": [
    "len(baggcc.trees)"
   ]
  },
  {
   "cell_type": "code",
   "execution_count": 38,
   "metadata": {},
   "outputs": [
    {
     "data": {
      "text/plain": [
       "0.7465855365339699"
      ]
     },
     "execution_count": 38,
     "metadata": {},
     "output_type": "execute_result"
    }
   ],
   "source": [
    "baggcc.oob_score(X,y)"
   ]
  },
  {
   "cell_type": "code",
   "execution_count": 13,
   "metadata": {},
   "outputs": [
    {
     "name": "stdout",
     "output_type": "stream",
     "text": [
      "Количество решающих деревьев:   3 \n",
      "Cреднее значение ROC AUC на кросс-валидации   0.8329881693804309\n"
     ]
    }
   ],
   "source": [
    "baggcc = BaggingClassifierCustom(n_estimators=3, max_depth=7, random_state=17, max_features=4)\n",
    "baggcc.fit(X,y)\n",
    "\n",
    "cv1 = cross_validate(baggcc, X, y, cv=5, scoring=('roc_auc'),return_train_score=True)\n",
    "\n",
    "print('Количество решающих деревьев:  ', baggcc.n_estimators, '\\nCреднее значение ROC AUC на кросс-валидации  ', cv1['test_score'].mean())"
   ]
  },
  {
   "cell_type": "code",
   "execution_count": 40,
   "metadata": {},
   "outputs": [
    {
     "name": "stdout",
     "output_type": "stream",
     "text": [
      "Количество решающих деревьев:   10 \n",
      "Cреднее значение ROC AUC на кросс-валидации   0.8350352503339818\n"
     ]
    }
   ],
   "source": [
    "baggcc2 = BaggingClassifierCustom(n_estimators=10, max_depth=7, random_state=17, max_features=4)\n",
    "baggcc2.fit(X,y)\n",
    "\n",
    "cv2 = cross_validate(baggcc2, X, y, cv=5, scoring=('roc_auc'),return_train_score=True)\n",
    "\n",
    "print('Количество решающих деревьев:  ', baggcc2.n_estimators, '\\nCреднее значение ROC AUC на кросс-валидации  ', cv2['test_score'].mean())"
   ]
  },
  {
   "cell_type": "markdown",
   "metadata": {},
   "source": [
    "Построим график зависимости среднего значения ROC AUC на кросс-валидации от кол-ва решающих деревьев"
   ]
  },
  {
   "cell_type": "code",
   "execution_count": 14,
   "metadata": {},
   "outputs": [
    {
     "name": "stdout",
     "output_type": "stream",
     "text": [
      "Рассчитано для  1 деревьев\n",
      "Рассчитано для  3 деревьев\n",
      "Рассчитано для  5 деревьев\n",
      "Рассчитано для  7 деревьев\n",
      "Рассчитано для  9 деревьев\n",
      "Рассчитано для  11 деревьев\n",
      "Рассчитано для  13 деревьев\n",
      "Рассчитано для  15 деревьев\n",
      "Рассчитано для  17 деревьев\n",
      "Рассчитано для  19 деревьев\n",
      "Рассчитано для  21 деревьев\n"
     ]
    }
   ],
   "source": [
    "xx = list(range(1, 22, 2)) \n",
    "# xx = [1, 3, 5, 7, 9, 11, 13]\n",
    "yy = []\n",
    "for x in xx:\n",
    "    baggcc = BaggingClassifierCustom(n_estimators=x, max_depth=7, random_state=17, max_features=4)\n",
    "    baggcc.fit(X,y)\n",
    "    cv1 = cross_validate(baggcc, X, y, cv=5, scoring=('roc_auc'),return_train_score=True)\n",
    "    score1 = cv1['test_score'].mean()\n",
    "    yy += [score1]\n",
    "    print('Рассчитано для ', x , 'деревьев')"
   ]
  },
  {
   "cell_type": "code",
   "execution_count": 15,
   "metadata": {},
   "outputs": [
    {
     "data": {
      "image/png": "[encoded data removed]",
      "text/plain": [
       "<Figure size 432x288 with 1 Axes>"
      ]
     },
     "metadata": {
      "needs_background": "light"
     },
     "output_type": "display_data"
    }
   ],
   "source": [
    "plt.xlabel(\"Кол-во решающих деревьев\")\n",
    "plt.ylabel(\"Среднее значение ROC AUC на кросс-валидации\")\n",
    "#plt.legend()\n",
    "plt.plot(xx, yy, c = \"black\")\n",
    "plt.show()"
   ]
  },
  {
   "cell_type": "markdown",
   "metadata": {},
   "source": [
    "Сравните собственную реализацию с реализацией в sklearn. Для этого воспользуйтесь `BaggingClassifier(n_jobs=-1, random_state=17)`, укажите все те же значения `max_depth` и `max_features`, что и раньше. Каким оказалось среднее значение ROC AUC на кросс-валидации? Чему равна out-of-bag оценка?"
   ]
  },
  {
   "cell_type": "code",
   "execution_count": 16,
   "metadata": {},
   "outputs": [],
   "source": [
    "from sklearn.ensemble import BaggingClassifier"
   ]
  },
  {
   "cell_type": "code",
   "execution_count": 58,
   "metadata": {},
   "outputs": [],
   "source": [
    "#model_libr = BaggingClassifier(n_jobs=-1, n_estimators=10, random_state=17, max_features=4)\n",
    "dt = DecisionTreeClassifier(max_depth=7, class_weight='balanced')"
   ]
  },
  {
   "cell_type": "code",
   "execution_count": 59,
   "metadata": {},
   "outputs": [
    {
     "data": {
      "text/plain": [
       "BaggingClassifier(base_estimator=DecisionTreeClassifier(class_weight='balanced', criterion='gini', max_depth=7,\n",
       "            max_features=None, max_leaf_nodes=None,\n",
       "            min_impurity_decrease=0.0, min_impurity_split=None,\n",
       "            min_samples_leaf=1, min_samples_split=2,\n",
       "            min_weight_fraction_leaf=0.0, presort=False, random_state=None,\n",
       "            splitter='best'),\n",
       "         bootstrap=True, bootstrap_features=False, max_features=4,\n",
       "         max_samples=1.0, n_estimators=10, n_jobs=-1, oob_score=False,\n",
       "         random_state=17, verbose=0, warm_start=False)"
      ]
     },
     "execution_count": 59,
     "metadata": {},
     "output_type": "execute_result"
    }
   ],
   "source": [
    "#model_libr = BaggingClassifier(n_jobs=-1, n_estimators=10, random_state=17, max_features=4)\n",
    "model_libr = BaggingClassifier(base_estimator=dt, n_jobs=-1, n_estimators=10, random_state=17, max_features=4)\n",
    "\n",
    "model_libr.fit(X,y)"
   ]
  },
  {
   "cell_type": "code",
   "execution_count": 60,
   "metadata": {},
   "outputs": [
    {
     "name": "stdout",
     "output_type": "stream",
     "text": [
      "Cреднее значение ROC AUC на кросс-валидации   0.8291354283835565\n"
     ]
    }
   ],
   "source": [
    "cv_model = cross_validate(model_libr, X, y, cv=5, scoring=('roc_auc'),return_train_score=True)\n",
    "\n",
    "print('Cреднее значение ROC AUC на кросс-валидации  ', cv_model['test_score'].mean())"
   ]
  },
  {
   "cell_type": "markdown",
   "metadata": {},
   "source": [
    "Ранее были найдены оптимальные гиперпараметры для одного дерева, но может быть, для ансамбля эти параметры дерева не будут оптимальными. С помощью `GridSearchCV (BaggingClassifier(random_state=17))` рассмотрите другие варианты. Какими теперь стали лучшие значения гиперпараметров и чему равен ROC AUC? "
   ]
  },
  {
   "cell_type": "code",
   "execution_count": 53,
   "metadata": {},
   "outputs": [],
   "source": [
    "max_depth_values = range(5, 14)\n",
    "max_features_values = range(4, 8)\n",
    "\n",
    "max_rocauc = 0\n",
    "max_depth = 0\n",
    "max_feat = 0\n",
    "\n",
    "for depth in max_depth_values:\n",
    "    for feature in max_features_values:        \n",
    "        bagg_mod = BaggingClassifier(base_estimator=DecisionTreeClassifier(max_depth=depth, class_weight='balanced'), n_jobs=-1, n_estimators=10, random_state=17, max_features=feature)\n",
    "        bagg_mod.fit(X,y)\n",
    "        cv_bagg_mod = cross_validate(bagg_mod, X, y, cv=5, scoring=('roc_auc'), return_train_score=True)\n",
    "        ro = cv_bagg_mod['test_score'].mean()\n",
    "        if ro > max_rocauc:\n",
    "            max_rocauc = ro\n",
    "            max_depth = depth\n",
    "            max_feat = feature"
   ]
  },
  {
   "cell_type": "code",
   "execution_count": 55,
   "metadata": {},
   "outputs": [
    {
     "name": "stdout",
     "output_type": "stream",
     "text": [
      "Максимальное значение ROC AUC =  0.8315283144924669 достигается при max_depth =  8  и при max_features =  6\n"
     ]
    }
   ],
   "source": [
    "print('Максимальное значение ROC AUC = ', max_rocauc, 'достигается при max_depth = ', max_depth ,  ' и при max_features = ', max_feat)"
   ]
  },
  {
   "cell_type": "markdown",
   "metadata": {},
   "source": [
    "Примем cv=StratifiedKFold(n_splits=5, random_state=17)"
   ]
  },
  {
   "cell_type": "code",
   "execution_count": 57,
   "metadata": {},
   "outputs": [
    {
     "name": "stdout",
     "output_type": "stream",
     "text": [
      "Максимальное значение ROC AUC =  0.8315283144924669 достигается при max_depth =  8  и при max_features =  6\n"
     ]
    }
   ],
   "source": [
    "max_depth_values = range(5, 14)\n",
    "max_features_values = range(4, 8)\n",
    "\n",
    "max_rocauc = 0\n",
    "max_depth = 0\n",
    "max_feat = 0\n",
    "\n",
    "for depth in max_depth_values:\n",
    "    for feature in max_features_values:        \n",
    "        bagg_mod = BaggingClassifier(base_estimator=DecisionTreeClassifier(max_depth=depth, class_weight='balanced'), n_jobs=-1, n_estimators=10, random_state=17, max_features=feature)\n",
    "        bagg_mod.fit(X,y)\n",
    "        cv_bagg_mod = cross_validate(bagg_mod, X, y, cv=StratifiedKFold(n_splits=5, random_state=17), scoring=('roc_auc'), return_train_score=True)\n",
    "        ro = cv_bagg_mod['test_score'].mean()\n",
    "        if ro > max_rocauc:\n",
    "            max_rocauc = ro\n",
    "            max_depth = depth\n",
    "            max_feat = feature\n",
    "            \n",
    "print('Максимальное значение ROC AUC = ', max_rocauc, 'достигается при max_depth = ', max_depth ,  ' и при max_features = ', max_feat)"
   ]
  },
  {
   "cell_type": "markdown",
   "metadata": {},
   "source": [
    "## Выводы по Бэггингу:\n",
    "1. ROC AUC одного дерева 0.82\n",
    "2. ROC AUC собственной реализации Бэггинга = **0.835** (кол-во решающих деревьев=10, max_depth=7,  max_features=4)\n",
    "3. ROC AUC Бэггинга sklearn = 0.829 (кол-во решающих деревьев=10, max_depth=7,  max_features=4) - #те же параметры\n",
    "4. Максимальный ROC AUC, которого удалось достичь для Бэггинка sklearn, = 0.831 (кол-во решающих деревьев=10, max_depth=8,  max_features=6)\n",
    "**Итого:** собственная реализация лучше"
   ]
  },
  {
   "cell_type": "markdown",
   "metadata": {},
   "source": [
    "# Реализация случайного леса"
   ]
  },
  {
   "cell_type": "markdown",
   "metadata": {
    "collapsed": true
   },
   "source": [
    "Теперь реализуйте случайный лес с помощью `DecisionTreeClassifier`.\n",
    "\n",
    "Кроме индексов объектов теперь необходимо на каждом шаге алгоритма запоминать также индексы признаков, которые участвовали в обучении леса.\n",
    "\n",
    "- Зафиксировав seed, выберите **без замещения** `max_features` признаков, сохраните список выбранных id признаков в `self.feat_ids_by_tree`.\n",
    "- Обучите дерево с теми же `max_depth`, `max_features` и `random_state`, что и у `RandomForestClassifierCustom` на выборке с нужным подмножеством объектов и признаков.\n",
    "- В методе `predict_proba` у тестовой выборки нужно взять те признаки, на которых соответсвующее дерево обучалось, и сделать прогноз вероятностей (`predict_proba` уже для дерева). Метод должен вернуть усреднение прогнозов по всем деревьям.\n",
    "\n",
    "Проведите кросс-валидацию. Какое получилось среднее значение ROC AUC на кросс-валидации?"
   ]
  },
  {
   "cell_type": "code",
   "execution_count": 93,
   "metadata": {},
   "outputs": [],
   "source": [
    "from sklearn.base import BaseEstimator\n",
    " \n",
    "class RandomForestClassifierCustom(BaseEstimator):\n",
    "    def __init__(self, n_estimators=10, max_depth=3, max_features=10, random_state=17):\n",
    "        self.n_estimators = n_estimators\n",
    "        self.max_depth = max_depth\n",
    "        self.max_features = max_features\n",
    "        self.random_state = random_state\n",
    "        # в данном списке будем хранить отдельные деревья\n",
    "        self.trees = []\n",
    "        # тут будем хранить списки индексов признаков, на которых обучалось каждое дерево \n",
    "        self.feat_ids_by_tree ={}      \n",
    "\n",
    "    \n",
    "    def fit(self, X, y):\n",
    "              \n",
    "        X = pd.DataFrame(np.asarray(X))\n",
    "        y = pd.DataFrame({'y' : np.asarray(y)})['y']\n",
    "        for i in range(self.n_estimators):\n",
    "            random.seed(self.random_state + i)\n",
    "            indexes = [random.randint(0, X.shape[0]-1) for i in range(0, X.shape[0])]\n",
    "            numb_feat = random.randint(1, self.max_features if self.max_features<=X.shape[1] else X.shape[1])\n",
    "            indexes_features = random.sample(range(X.shape[1]), k=numb_feat)\n",
    "            X_new = X.loc[indexes] # бутстрэп выборка \n",
    "            X_new = X_new[X_new.columns[indexes_features ]]\n",
    "            y_new = y.loc[indexes]             \n",
    "            \n",
    "            self.feat_ids_by_tree[i] = indexes_features\n",
    "            # Обучите дерево с теми же max_depth, max_features и random_state, что и у BaggingClassifierCustom на выборке с нужным подмножеством объектов.\n",
    "            #dtc = DecisionTreeClassifier(random_state=self.random_state, max_depth=self.max_depth, max_features=self.max_features if self.max_features<=len(self.feat_ids_by_tree[i]) else len(self.feat_ids_by_tree[i]))\n",
    "            dtc = DecisionTreeClassifier(random_state=self.random_state, max_depth=self.max_depth)\n",
    "            dtc.fit(X_new, y_new)\n",
    "            self.trees += [dtc]\n",
    "\n",
    "        \n",
    "        # Метод fit возвращает текущий экземпляр класса BaggingClassifierCustom, то есть self\n",
    "        return self\n",
    "\n",
    "            \n",
    "    def predict_proba(self, X):\n",
    "        \n",
    "        all_pp = []\n",
    "        # цикл по всем деревьям. \n",
    "        #for tree in self.trees:\n",
    "        for i in range(len(self.trees)):\n",
    "            all_pp.append(self.trees[i].predict_proba(X[X.columns[self.feat_ids_by_tree[i]]]))  \n",
    "        \n",
    "        # Метод должен вернуть усреднение прогнозов по всем деревьям.\n",
    "        pp = np.mean(all_pp, axis=0)\n",
    "        return pp\n",
    "    \n",
    "    def predict(self, X):\n",
    "       \n",
    "        all_pp = []\n",
    "        # цикл по всем деревьям. \n",
    "        for tree in self.trees:\n",
    "            all_pp.append(tree.predict_proba(X))  \n",
    "        \n",
    "        # Метод должен вернуть усреднение прогнозов по всем деревьям.\n",
    "        pp = np.mean(all_pp, axis=0)\n",
    "        y_pred = [0 if i[0]==max(i) else 1 for i in pp ]\n",
    "        return y_pred\n",
    "    "
   ]
  },
  {
   "cell_type": "code",
   "execution_count": 94,
   "metadata": {},
   "outputs": [],
   "source": [
    "rfc_model = RandomForestClassifierCustom(n_estimators=15, max_depth=7, random_state=17, max_features=6)"
   ]
  },
  {
   "cell_type": "code",
   "execution_count": 95,
   "metadata": {},
   "outputs": [
    {
     "data": {
      "text/plain": [
       "RandomForestClassifierCustom(max_depth=7, max_features=6, n_estimators=15,\n",
       "               random_state=17)"
      ]
     },
     "execution_count": 95,
     "metadata": {},
     "output_type": "execute_result"
    }
   ],
   "source": [
    "rfc_model.fit(X, y)"
   ]
  },
  {
   "cell_type": "code",
   "execution_count": 96,
   "metadata": {},
   "outputs": [
    {
     "data": {
      "text/plain": [
       "{0: [4],\n",
       " 1: [5, 0, 6, 3, 1, 2],\n",
       " 2: [5, 0, 3, 2, 6, 1],\n",
       " 3: [3, 0],\n",
       " 4: [2],\n",
       " 5: [4, 2, 0],\n",
       " 6: [1, 2, 5, 0, 3, 4],\n",
       " 7: [1, 3],\n",
       " 8: [3, 5, 4, 6, 0],\n",
       " 9: [0],\n",
       " 10: [2],\n",
       " 11: [1, 2, 4, 3],\n",
       " 12: [2, 3, 6, 0, 1],\n",
       " 13: [3, 4, 0, 6, 1],\n",
       " 14: [0, 4, 5, 1, 3, 2]}"
      ]
     },
     "execution_count": 96,
     "metadata": {},
     "output_type": "execute_result"
    }
   ],
   "source": [
    "rfc_model.feat_ids_by_tree"
   ]
  },
  {
   "cell_type": "code",
   "execution_count": 97,
   "metadata": {},
   "outputs": [
    {
     "name": "stdout",
     "output_type": "stream",
     "text": [
      "Количество решающих деревьев:   15 \n",
      "Cреднее значение ROC AUC на кросс-валидации   0.8368277418341472\n"
     ]
    }
   ],
   "source": [
    "cv10 = cross_validate(rfc_model, X, y, cv=5, scoring=('roc_auc'),return_train_score=True)\n",
    "\n",
    "print('Количество решающих деревьев:  ', rfc_model.n_estimators, '\\nCреднее значение ROC AUC на кросс-валидации  ', cv10['test_score'].mean())"
   ]
  },
  {
   "cell_type": "code",
   "execution_count": 98,
   "metadata": {},
   "outputs": [
    {
     "name": "stdout",
     "output_type": "stream",
     "text": [
      "Количество решающих деревьев:   35 \n",
      "Cреднее значение ROC AUC на кросс-валидации   0.8374815226482106\n"
     ]
    }
   ],
   "source": [
    "rfc_model2 = RandomForestClassifierCustom(n_estimators=35, max_depth=7, random_state=17, max_features=6)\n",
    "rfc_model2.fit(X, y)\n",
    "cv11 = cross_validate(rfc_model2, X, y, cv=5, scoring=('roc_auc'), return_train_score=True)\n",
    "\n",
    "print('Количество решающих деревьев:  ', rfc_model2.n_estimators, '\\nCреднее значение ROC AUC на кросс-валидации  ', cv11['test_score'].mean())"
   ]
  },
  {
   "cell_type": "markdown",
   "metadata": {},
   "source": [
    "## Выводы по Случайному лесу:\n",
    "1. Максимальный ROC AUC, которого удалось достичь для Случайного леса = **0.837**. Значение улучшилось на 0.002 относительно Бэггинга (ROC AUC Бэггинга = 0.835).\n",
    "\n",
    "**Итог:** В дальнейшем используем алгоритм  Случайный лес.\n"
   ]
  },
  {
   "cell_type": "markdown",
   "metadata": {},
   "source": [
    "*Рассмотрим библиотечную реализацию Случайного леса*"
   ]
  },
  {
   "cell_type": "code",
   "execution_count": 100,
   "metadata": {},
   "outputs": [
    {
     "name": "stdout",
     "output_type": "stream",
     "text": [
      "Количество решающих деревьев:   35 \n",
      "Cреднее значение ROC AUC на кросс-валидации   0.8324532970597147\n"
     ]
    }
   ],
   "source": [
    "from sklearn.ensemble import RandomForestClassifier\n",
    "\n",
    "rfc_model3 = RandomForestClassifier(n_estimators=35, max_depth=7, random_state=17, max_features=6)\n",
    "rfc_model3.fit(X, y)\n",
    "cv12 = cross_validate(rfc_model3, X, y, cv=5, scoring=('roc_auc'), return_train_score=True)\n",
    "\n",
    "print('Количество решающих деревьев:  ', rfc_model3.n_estimators, '\\nCреднее значение ROC AUC на кросс-валидации  ', cv12['test_score'].mean())"
   ]
  },
  {
   "cell_type": "markdown",
   "metadata": {},
   "source": [
    "`Машинная реализация оказалась хуже, чем авторская.`"
   ]
  }
 ],
 "metadata": {
  "kernelspec": {
   "display_name": "Python 3",
   "language": "python",
   "name": "python3"
  },
  "language_info": {
   "codemirror_mode": {
    "name": "ipython",
    "version": 3
   },
   "file_extension": ".py",
   "mimetype": "text/x-python",
   "name": "python",
   "nbconvert_exporter": "python",
   "pygments_lexer": "ipython3",
   "version": "3.7.3"
  }
 },
 "nbformat": 4,
 "nbformat_minor": 2
}
